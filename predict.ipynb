{
 "cells": [
  {
   "cell_type": "code",
   "execution_count": 1,
   "id": "f870b4ec",
   "metadata": {},
   "outputs": [],
   "source": [
    "import pandas as pd"
   ]
  },
  {
   "cell_type": "code",
   "execution_count": 2,
   "id": "7c1ccfd4",
   "metadata": {},
   "outputs": [],
   "source": [
    "model = pd.read_pickle('lr_model.pickle')"
   ]
  },
  {
   "cell_type": "code",
   "execution_count": 3,
   "id": "fb64d672",
   "metadata": {},
   "outputs": [
    {
     "name": "stdout",
     "output_type": "stream",
     "text": [
      "Enter GRE : 300\n",
      "Enter TOEFL : 109\n",
      "Enter CGPA : 9.5\n"
     ]
    }
   ],
   "source": [
    "gre = int(input(\"Enter GRE : \"))\n",
    "tof = int(input(\"Enter TOEFL : \"))\n",
    "cgpa = float(input(\"Enter CGPA : \"))"
   ]
  },
  {
   "cell_type": "code",
   "execution_count": 4,
   "id": "096d0abb",
   "metadata": {},
   "outputs": [
    {
     "name": "stdout",
     "output_type": "stream",
     "text": [
      "Chances are : 81.72%\n"
     ]
    }
   ],
   "source": [
    "result = model.predict([[gre,tof,cgpa]]) # input must be 2D array\n",
    "print(f\"Chances are : {result[0] * 100:.2f}%\")"
   ]
  },
  {
   "cell_type": "code",
   "execution_count": null,
   "id": "76d9a716",
   "metadata": {},
   "outputs": [],
   "source": []
  }
 ],
 "metadata": {
  "kernelspec": {
   "display_name": "Python 3",
   "language": "python",
   "name": "python3"
  },
  "language_info": {
   "codemirror_mode": {
    "name": "ipython",
    "version": 3
   },
   "file_extension": ".py",
   "mimetype": "text/x-python",
   "name": "python",
   "nbconvert_exporter": "python",
   "pygments_lexer": "ipython3",
   "version": "3.8.8"
  }
 },
 "nbformat": 4,
 "nbformat_minor": 5
}
